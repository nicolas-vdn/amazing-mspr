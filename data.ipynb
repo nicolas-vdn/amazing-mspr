{
 "cells": [
  {
   "cell_type": "code",
   "execution_count": 1,
   "id": "dd882f5d",
   "metadata": {},
   "outputs": [],
   "source": [
    "import pandas as pd\n",
    "import matplotlib.pyplot as plt"
   ]
  },
  {
   "cell_type": "code",
   "execution_count": 2,
   "id": "dc4b5611",
   "metadata": {},
   "outputs": [],
   "source": [
    "file_to_load = \"./DATA/2019-Oct.csv\"\n",
    "chunksize = 100_000"
   ]
  },
  {
   "cell_type": "code",
   "execution_count": 3,
   "id": "28fe72bf",
   "metadata": {},
   "outputs": [],
   "source": [
    "chunks = pd.read_csv(file_to_load, chunksize=chunksize)"
   ]
  },
  {
   "cell_type": "code",
   "execution_count": 4,
   "id": "6fb5223b",
   "metadata": {},
   "outputs": [],
   "source": [
    "def getRandomDataset(chunks, frac, seed):\n",
    "    return pd.concat(chunk.sample(frac=frac, random_state=seed) for chunk in chunks)"
   ]
  },
  {
   "cell_type": "code",
   "execution_count": null,
   "id": "4ce79513",
   "metadata": {},
   "outputs": [],
   "source": [
    "df = getRandomDataset(chunks, 0.01, 42)"
   ]
  },
  {
   "cell_type": "code",
   "execution_count": null,
   "id": "afa3363c",
   "metadata": {},
   "outputs": [
    {
     "data": {
      "text/html": [
       "<div>\n",
       "<style scoped>\n",
       "    .dataframe tbody tr th:only-of-type {\n",
       "        vertical-align: middle;\n",
       "    }\n",
       "\n",
       "    .dataframe tbody tr th {\n",
       "        vertical-align: top;\n",
       "    }\n",
       "\n",
       "    .dataframe thead th {\n",
       "        text-align: right;\n",
       "    }\n",
       "</style>\n",
       "<table border=\"1\" class=\"dataframe\">\n",
       "  <thead>\n",
       "    <tr style=\"text-align: right;\">\n",
       "      <th></th>\n",
       "      <th>event_time</th>\n",
       "      <th>event_type</th>\n",
       "      <th>product_id</th>\n",
       "      <th>category_id</th>\n",
       "      <th>category_code</th>\n",
       "      <th>brand</th>\n",
       "      <th>price</th>\n",
       "      <th>user_id</th>\n",
       "      <th>user_session</th>\n",
       "    </tr>\n",
       "  </thead>\n",
       "  <tbody>\n",
       "    <tr>\n",
       "      <th>13963</th>\n",
       "      <td>2019-10-01 02:44:07 UTC</td>\n",
       "      <td>view</td>\n",
       "      <td>1005105</td>\n",
       "      <td>2053013555631882655</td>\n",
       "      <td>electronics.smartphone</td>\n",
       "      <td>apple</td>\n",
       "      <td>1415.48</td>\n",
       "      <td>545069888</td>\n",
       "      <td>627bf82e-85ab-420d-92f2-ecd44895eb19</td>\n",
       "    </tr>\n",
       "    <tr>\n",
       "      <th>7853</th>\n",
       "      <td>2019-10-01 02:33:23 UTC</td>\n",
       "      <td>view</td>\n",
       "      <td>1005105</td>\n",
       "      <td>2053013555631882655</td>\n",
       "      <td>electronics.smartphone</td>\n",
       "      <td>apple</td>\n",
       "      <td>1415.48</td>\n",
       "      <td>555463891</td>\n",
       "      <td>b2e5ffff-8305-439e-996b-ca52d063273b</td>\n",
       "    </tr>\n",
       "    <tr>\n",
       "      <th>19270</th>\n",
       "      <td>2019-10-01 02:52:51 UTC</td>\n",
       "      <td>view</td>\n",
       "      <td>1305803</td>\n",
       "      <td>2053013558920217191</td>\n",
       "      <td>computers.notebook</td>\n",
       "      <td>hp</td>\n",
       "      <td>772.19</td>\n",
       "      <td>555464435</td>\n",
       "      <td>5f05a588-3c47-4719-a728-41b729d79ad2</td>\n",
       "    </tr>\n",
       "    <tr>\n",
       "      <th>31971</th>\n",
       "      <td>2019-10-01 03:10:24 UTC</td>\n",
       "      <td>view</td>\n",
       "      <td>26500137</td>\n",
       "      <td>2053013563550729061</td>\n",
       "      <td>NaN</td>\n",
       "      <td>lucente</td>\n",
       "      <td>122.01</td>\n",
       "      <td>538078498</td>\n",
       "      <td>a9a37639-037e-4ac6-8ad2-5d4e65ee1f05</td>\n",
       "    </tr>\n",
       "    <tr>\n",
       "      <th>74611</th>\n",
       "      <td>2019-10-01 04:01:11 UTC</td>\n",
       "      <td>view</td>\n",
       "      <td>6200879</td>\n",
       "      <td>2053013552293216471</td>\n",
       "      <td>appliances.environment.air_heater</td>\n",
       "      <td>oasis</td>\n",
       "      <td>28.70</td>\n",
       "      <td>514578573</td>\n",
       "      <td>92700d7d-9a4c-4b01-8660-207019a62920</td>\n",
       "    </tr>\n",
       "  </tbody>\n",
       "</table>\n",
       "</div>"
      ],
      "text/plain": [
       "                    event_time event_type  product_id          category_id  \\\n",
       "13963  2019-10-01 02:44:07 UTC       view     1005105  2053013555631882655   \n",
       "7853   2019-10-01 02:33:23 UTC       view     1005105  2053013555631882655   \n",
       "19270  2019-10-01 02:52:51 UTC       view     1305803  2053013558920217191   \n",
       "31971  2019-10-01 03:10:24 UTC       view    26500137  2053013563550729061   \n",
       "74611  2019-10-01 04:01:11 UTC       view     6200879  2053013552293216471   \n",
       "\n",
       "                           category_code    brand    price    user_id  \\\n",
       "13963             electronics.smartphone    apple  1415.48  545069888   \n",
       "7853              electronics.smartphone    apple  1415.48  555463891   \n",
       "19270                 computers.notebook       hp   772.19  555464435   \n",
       "31971                                NaN  lucente   122.01  538078498   \n",
       "74611  appliances.environment.air_heater    oasis    28.70  514578573   \n",
       "\n",
       "                               user_session  \n",
       "13963  627bf82e-85ab-420d-92f2-ecd44895eb19  \n",
       "7853   b2e5ffff-8305-439e-996b-ca52d063273b  \n",
       "19270  5f05a588-3c47-4719-a728-41b729d79ad2  \n",
       "31971  a9a37639-037e-4ac6-8ad2-5d4e65ee1f05  \n",
       "74611  92700d7d-9a4c-4b01-8660-207019a62920  "
      ]
     },
     "execution_count": 10,
     "metadata": {},
     "output_type": "execute_result"
    }
   ],
   "source": [
    "df.head()"
   ]
  },
  {
   "cell_type": "code",
   "execution_count": null,
   "id": "1fa98343",
   "metadata": {},
   "outputs": [
    {
     "data": {
      "text/html": [
       "<div>\n",
       "<style scoped>\n",
       "    .dataframe tbody tr th:only-of-type {\n",
       "        vertical-align: middle;\n",
       "    }\n",
       "\n",
       "    .dataframe tbody tr th {\n",
       "        vertical-align: top;\n",
       "    }\n",
       "\n",
       "    .dataframe thead th {\n",
       "        text-align: right;\n",
       "    }\n",
       "</style>\n",
       "<table border=\"1\" class=\"dataframe\">\n",
       "  <thead>\n",
       "    <tr style=\"text-align: right;\">\n",
       "      <th></th>\n",
       "      <th>product_id</th>\n",
       "      <th>category_id</th>\n",
       "      <th>price</th>\n",
       "      <th>user_id</th>\n",
       "    </tr>\n",
       "  </thead>\n",
       "  <tbody>\n",
       "    <tr>\n",
       "      <th>count</th>\n",
       "      <td>4.244880e+05</td>\n",
       "      <td>4.244880e+05</td>\n",
       "      <td>424488.000000</td>\n",
       "      <td>4.244880e+05</td>\n",
       "    </tr>\n",
       "    <tr>\n",
       "      <th>mean</th>\n",
       "      <td>1.055194e+07</td>\n",
       "      <td>2.057385e+18</td>\n",
       "      <td>291.560097</td>\n",
       "      <td>5.334841e+08</td>\n",
       "    </tr>\n",
       "    <tr>\n",
       "      <th>std</th>\n",
       "      <td>1.188365e+07</td>\n",
       "      <td>1.841418e+16</td>\n",
       "      <td>360.486994</td>\n",
       "      <td>1.851126e+07</td>\n",
       "    </tr>\n",
       "    <tr>\n",
       "      <th>min</th>\n",
       "      <td>1.000978e+06</td>\n",
       "      <td>2.053014e+18</td>\n",
       "      <td>0.000000</td>\n",
       "      <td>2.474128e+08</td>\n",
       "    </tr>\n",
       "    <tr>\n",
       "      <th>25%</th>\n",
       "      <td>1.005157e+06</td>\n",
       "      <td>2.053014e+18</td>\n",
       "      <td>65.900000</td>\n",
       "      <td>5.158793e+08</td>\n",
       "    </tr>\n",
       "    <tr>\n",
       "      <th>50%</th>\n",
       "      <td>5.000475e+06</td>\n",
       "      <td>2.053014e+18</td>\n",
       "      <td>163.735000</td>\n",
       "      <td>5.295037e+08</td>\n",
       "    </tr>\n",
       "    <tr>\n",
       "      <th>75%</th>\n",
       "      <td>1.600064e+07</td>\n",
       "      <td>2.053014e+18</td>\n",
       "      <td>359.080000</td>\n",
       "      <td>5.514951e+08</td>\n",
       "    </tr>\n",
       "    <tr>\n",
       "      <th>max</th>\n",
       "      <td>6.050000e+07</td>\n",
       "      <td>2.175420e+18</td>\n",
       "      <td>2574.070000</td>\n",
       "      <td>5.662804e+08</td>\n",
       "    </tr>\n",
       "  </tbody>\n",
       "</table>\n",
       "</div>"
      ],
      "text/plain": [
       "         product_id   category_id          price       user_id\n",
       "count  4.244880e+05  4.244880e+05  424488.000000  4.244880e+05\n",
       "mean   1.055194e+07  2.057385e+18     291.560097  5.334841e+08\n",
       "std    1.188365e+07  1.841418e+16     360.486994  1.851126e+07\n",
       "min    1.000978e+06  2.053014e+18       0.000000  2.474128e+08\n",
       "25%    1.005157e+06  2.053014e+18      65.900000  5.158793e+08\n",
       "50%    5.000475e+06  2.053014e+18     163.735000  5.295037e+08\n",
       "75%    1.600064e+07  2.053014e+18     359.080000  5.514951e+08\n",
       "max    6.050000e+07  2.175420e+18    2574.070000  5.662804e+08"
      ]
     },
     "execution_count": 11,
     "metadata": {},
     "output_type": "execute_result"
    }
   ],
   "source": [
    "df.describe()"
   ]
  },
  {
   "cell_type": "code",
   "execution_count": null,
   "id": "11de7215",
   "metadata": {},
   "outputs": [],
   "source": [
    "def createNaAndUniqueMatrix(df):\n",
    "    rows = [\"Valeurs nulles\", \"Valeurs uniques\"]\n",
    "\n",
    "    data = {}\n",
    "\n",
    "    for column in df.columns:    \n",
    "        na = df[column].isna()\n",
    "        unique = len(df[column][~na].unique())\n",
    "\n",
    "        data[column] = [len(df[na]), unique]\n",
    "\n",
    "    return pd.DataFrame(data, index=rows)"
   ]
  },
  {
   "cell_type": "code",
   "execution_count": null,
   "id": "9784149a",
   "metadata": {},
   "outputs": [
    {
     "data": {
      "text/html": [
       "<div>\n",
       "<style scoped>\n",
       "    .dataframe tbody tr th:only-of-type {\n",
       "        vertical-align: middle;\n",
       "    }\n",
       "\n",
       "    .dataframe tbody tr th {\n",
       "        vertical-align: top;\n",
       "    }\n",
       "\n",
       "    .dataframe thead th {\n",
       "        text-align: right;\n",
       "    }\n",
       "</style>\n",
       "<table border=\"1\" class=\"dataframe\">\n",
       "  <thead>\n",
       "    <tr style=\"text-align: right;\">\n",
       "      <th></th>\n",
       "      <th>event_time</th>\n",
       "      <th>event_type</th>\n",
       "      <th>product_id</th>\n",
       "      <th>category_id</th>\n",
       "      <th>category_code</th>\n",
       "      <th>brand</th>\n",
       "      <th>price</th>\n",
       "      <th>user_id</th>\n",
       "      <th>user_session</th>\n",
       "    </tr>\n",
       "  </thead>\n",
       "  <tbody>\n",
       "    <tr>\n",
       "      <th>Valeurs nulles</th>\n",
       "      <td>0</td>\n",
       "      <td>0</td>\n",
       "      <td>0</td>\n",
       "      <td>0</td>\n",
       "      <td>135223</td>\n",
       "      <td>61243</td>\n",
       "      <td>0</td>\n",
       "      <td>0</td>\n",
       "      <td>0</td>\n",
       "    </tr>\n",
       "    <tr>\n",
       "      <th>Valeurs uniques</th>\n",
       "      <td>384353</td>\n",
       "      <td>3</td>\n",
       "      <td>59347</td>\n",
       "      <td>597</td>\n",
       "      <td>126</td>\n",
       "      <td>2444</td>\n",
       "      <td>28947</td>\n",
       "      <td>320337</td>\n",
       "      <td>398654</td>\n",
       "    </tr>\n",
       "  </tbody>\n",
       "</table>\n",
       "</div>"
      ],
      "text/plain": [
       "                 event_time  event_type  product_id  category_id  \\\n",
       "Valeurs nulles            0           0           0            0   \n",
       "Valeurs uniques      384353           3       59347          597   \n",
       "\n",
       "                 category_code  brand  price  user_id  user_session  \n",
       "Valeurs nulles          135223  61243      0        0             0  \n",
       "Valeurs uniques            126   2444  28947   320337        398654  "
      ]
     },
     "execution_count": 55,
     "metadata": {},
     "output_type": "execute_result"
    }
   ],
   "source": [
    "createNaAndUniqueMatrix(df)"
   ]
  },
  {
   "cell_type": "markdown",
   "id": "9c9702ac",
   "metadata": {},
   "source": [
    "Analysons les 3 valeurs uniques d'event_type"
   ]
  },
  {
   "cell_type": "code",
   "execution_count": null,
   "id": "ce3cdeb2",
   "metadata": {},
   "outputs": [
    {
     "data": {
      "image/png": "[encoded data removed]",
      "text/plain": [
       "<Figure size 640x480 with 1 Axes>"
      ]
     },
     "metadata": {},
     "output_type": "display_data"
    }
   ],
   "source": [
    "frequences = df[\"event_type\"][df[\"event_type\"].notna()].value_counts()\n",
    "\n",
    "ax = frequences.plot(kind=\"bar\")\n",
    "\n",
    "for i,v in enumerate(frequences):\n",
    "    ax.text(i, v + 0.1, str(v), ha=\"center\", va=\"bottom\")\n",
    "\n",
    "plt.title(\"Fréquence des types d'événements\")\n",
    "plt.xlabel(\"Événement\")\n",
    "plt.ylabel(\"Fréquence\")\n",
    "plt.show()"
   ]
  },
  {
   "cell_type": "markdown",
   "id": "2c7aaed3",
   "metadata": {},
   "source": [
    "On recense donc 407 760 vues, 9271"
   ]
  },
  {
   "cell_type": "code",
   "execution_count": null,
   "id": "c0453df9",
   "metadata": {},
   "outputs": [],
   "source": []
  }
 ],
 "metadata": {
  "kernelspec": {
   "display_name": "env-wsl",
   "language": "python",
   "name": "python3"
  },
  "language_info": {
   "codemirror_mode": {
    "name": "ipython",
    "version": 3
   },
   "file_extension": ".py",
   "mimetype": "text/x-python",
   "name": "python",
   "nbconvert_exporter": "python",
   "pygments_lexer": "ipython3",
   "version": "3.12.3"
  }
 },
 "nbformat": 4,
 "nbformat_minor": 5
}
