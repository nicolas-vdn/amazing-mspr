{
 "cells": [
  {
   "cell_type": "code",
   "id": "731c85086afbb34e",
   "metadata": {
    "execution": {
     "iopub.execute_input": "2025-08-13T14:25:55.299699Z",
     "iopub.status.busy": "2025-08-13T14:25:55.299355Z",
     "iopub.status.idle": "2025-08-13T14:25:56.565435Z",
     "shell.execute_reply": "2025-08-13T14:25:56.564931Z",
     "shell.execute_reply.started": "2025-08-13T14:25:55.299677Z"
    }
   },
   "source": [
    "import pandas as pd\n",
    "import matplotlib.pyplot as plt\n",
    "import seaborn as sns"
   ],
   "outputs": [],
   "execution_count": null
  },
  {
   "cell_type": "code",
   "id": "906c81ca65d6d270",
   "metadata": {
    "execution": {
     "iopub.execute_input": "2025-08-13T14:25:56.566638Z",
     "iopub.status.busy": "2025-08-13T14:25:56.566333Z",
     "iopub.status.idle": "2025-08-13T14:25:56.569269Z",
     "shell.execute_reply": "2025-08-13T14:25:56.568834Z",
     "shell.execute_reply.started": "2025-08-13T14:25:56.566619Z"
    }
   },
   "source": [
    "file_to_load = \"Data/2019-Oct.csv\"\n",
    "\n",
    "chunksize = 50_000\n",
    "fraction = 0.001\n",
    "seed = 42"
   ],
   "outputs": [],
   "execution_count": null
  },
  {
   "cell_type": "code",
   "id": "302d110db2b8404d",
   "metadata": {
    "execution": {
     "iopub.execute_input": "2025-08-13T14:25:56.570103Z",
     "iopub.status.busy": "2025-08-13T14:25:56.569877Z",
     "iopub.status.idle": "2025-08-13T14:25:56.590697Z",
     "shell.execute_reply": "2025-08-13T14:25:56.590273Z",
     "shell.execute_reply.started": "2025-08-13T14:25:56.570087Z"
    }
   },
   "source": [
    "chunks = pd.read_csv(file_to_load, chunksize=chunksize, parse_dates=['event_time'])"
   ],
   "outputs": [],
   "execution_count": null
  },
  {
   "cell_type": "code",
   "id": "fab71c68bf1d6d45",
   "metadata": {
    "execution": {
     "iopub.execute_input": "2025-08-13T14:25:56.591923Z",
     "iopub.status.busy": "2025-08-13T14:25:56.591689Z",
     "iopub.status.idle": "2025-08-13T14:25:56.594572Z",
     "shell.execute_reply": "2025-08-13T14:25:56.594150Z",
     "shell.execute_reply.started": "2025-08-13T14:25:56.591906Z"
    }
   },
   "source": [
    "def getRandomDataset(chunks, frac, seed):\n",
    "    return pd.concat(chunk.sample(frac=frac, random_state=seed) for chunk in chunks)"
   ],
   "outputs": [],
   "execution_count": null
  },
  {
   "cell_type": "code",
   "id": "71f417833fb1718b",
   "metadata": {
    "execution": {
     "iopub.execute_input": "2025-08-13T14:25:56.595276Z",
     "iopub.status.busy": "2025-08-13T14:25:56.595100Z",
     "iopub.status.idle": "2025-08-13T14:29:49.235933Z",
     "shell.execute_reply": "2025-08-13T14:29:49.235373Z",
     "shell.execute_reply.started": "2025-08-13T14:25:56.595261Z"
    }
   },
   "source": [
    "df = getRandomDataset(chunks, fraction, seed)"
   ],
   "outputs": [],
   "execution_count": null
  },
  {
   "cell_type": "markdown",
   "id": "4fe5ac4a7eef382",
   "metadata": {},
   "source": [
    "# Exploration"
   ]
  },
  {
   "cell_type": "code",
   "id": "c0f321cd889d671c",
   "metadata": {
    "execution": {
     "iopub.execute_input": "2025-08-13T14:29:49.237209Z",
     "iopub.status.busy": "2025-08-13T14:29:49.236760Z",
     "iopub.status.idle": "2025-08-13T14:29:49.250356Z",
     "shell.execute_reply": "2025-08-13T14:29:49.249929Z",
     "shell.execute_reply.started": "2025-08-13T14:29:49.237191Z"
    }
   },
   "source": [
    "df.head()"
   ],
   "outputs": [],
   "execution_count": null
  },
  {
   "cell_type": "code",
   "id": "18e0aa5079d20341",
   "metadata": {
    "execution": {
     "iopub.execute_input": "2025-08-13T14:29:49.251107Z",
     "iopub.status.busy": "2025-08-13T14:29:49.250884Z",
     "iopub.status.idle": "2025-08-13T14:29:49.257472Z",
     "shell.execute_reply": "2025-08-13T14:29:49.257069Z",
     "shell.execute_reply.started": "2025-08-13T14:29:49.251091Z"
    }
   },
   "source": [
    "df.category_id.nunique()"
   ],
   "outputs": [],
   "execution_count": null
  },
  {
   "cell_type": "code",
   "id": "a863ac1e53a6a3e5",
   "metadata": {
    "execution": {
     "iopub.execute_input": "2025-08-13T14:29:49.258207Z",
     "iopub.status.busy": "2025-08-13T14:29:49.257992Z",
     "iopub.status.idle": "2025-08-13T14:29:49.337327Z",
     "shell.execute_reply": "2025-08-13T14:29:49.336881Z",
     "shell.execute_reply.started": "2025-08-13T14:29:49.258192Z"
    }
   },
   "source": [
    "df.describe()"
   ],
   "outputs": [],
   "execution_count": null
  },
  {
   "cell_type": "code",
   "id": "97bfc2b095e7948c",
   "metadata": {
    "execution": {
     "iopub.execute_input": "2025-08-13T14:29:49.338111Z",
     "iopub.status.busy": "2025-08-13T14:29:49.337878Z",
     "iopub.status.idle": "2025-08-13T14:29:49.447483Z",
     "shell.execute_reply": "2025-08-13T14:29:49.446971Z",
     "shell.execute_reply.started": "2025-08-13T14:29:49.338095Z"
    }
   },
   "source": [
    "df.info()"
   ],
   "outputs": [],
   "execution_count": null
  },
  {
   "cell_type": "code",
   "id": "58a099deffaca8ad",
   "metadata": {
    "execution": {
     "iopub.execute_input": "2025-08-13T14:29:49.449337Z",
     "iopub.status.busy": "2025-08-13T14:29:49.449070Z",
     "iopub.status.idle": "2025-08-13T14:29:49.452894Z",
     "shell.execute_reply": "2025-08-13T14:29:49.452427Z",
     "shell.execute_reply.started": "2025-08-13T14:29:49.449319Z"
    }
   },
   "source": [
    "def createNaAndUniqueMatrix(df):\n",
    "    rows = [\"Valeurs nulles\", \"Valeurs uniques\"]\n",
    "\n",
    "    data = {}\n",
    "\n",
    "    for column in df.columns:    \n",
    "        na = df[column].isna()\n",
    "        unique = len(df[column][~na].unique())\n",
    "\n",
    "        data[column] = [f'{len(df[na])} ({(len(df[na])/len(df))*100:.2f}%)', unique]\n",
    "\n",
    "    return pd.DataFrame(data, index=rows)"
   ],
   "outputs": [],
   "execution_count": null
  },
  {
   "cell_type": "code",
   "id": "e1f7b730b9a1f71e",
   "metadata": {
    "execution": {
     "iopub.execute_input": "2025-08-13T14:29:49.453815Z",
     "iopub.status.busy": "2025-08-13T14:29:49.453559Z",
     "iopub.status.idle": "2025-08-13T14:29:49.924797Z",
     "shell.execute_reply": "2025-08-13T14:29:49.924289Z",
     "shell.execute_reply.started": "2025-08-13T14:29:49.453780Z"
    }
   },
   "source": [
    "createNaAndUniqueMatrix(df)"
   ],
   "outputs": [],
   "execution_count": null
  },
  {
   "cell_type": "markdown",
   "id": "2f77b2a0fd3cc283",
   "metadata": {},
   "source": [
    "Analysons les 3 valeurs uniques d'event_type"
   ]
  },
  {
   "cell_type": "code",
   "id": "e67341e753c2a153",
   "metadata": {
    "execution": {
     "iopub.execute_input": "2025-08-13T14:29:49.926081Z",
     "iopub.status.busy": "2025-08-13T14:29:49.925474Z",
     "iopub.status.idle": "2025-08-13T14:29:50.207666Z",
     "shell.execute_reply": "2025-08-13T14:29:50.207201Z",
     "shell.execute_reply.started": "2025-08-13T14:29:49.926049Z"
    }
   },
   "source": [
    "frequences = df[\"event_type\"][df[\"event_type\"].notna()].value_counts()\n",
    "\n",
    "ax = frequences.plot(kind=\"bar\")\n",
    "\n",
    "for i,v in enumerate(frequences):\n",
    "    ax.text(i, v + 0.1, str(v), ha=\"center\", va=\"bottom\")\n",
    "\n",
    "plt.title(\"Fréquence des types d'événements\")\n",
    "plt.xlabel(\"Événement\")\n",
    "plt.ylabel(\"Fréquence\")\n",
    "plt.show()"
   ],
   "outputs": [],
   "execution_count": null
  },
  {
   "cell_type": "markdown",
   "id": "c7806ab6a2207f68",
   "metadata": {},
   "source": [
    "On recense donc 407 757 vues, 9237 mises dans un panier et 7494 achats"
   ]
  },
  {
   "cell_type": "markdown",
   "id": "c96ab6355617e0b4",
   "metadata": {},
   "source": [
    "Quels sont les taux de conversion entre les types d'événements ?"
   ]
  },
  {
   "cell_type": "code",
   "id": "c14b5463237a7641",
   "metadata": {
    "execution": {
     "iopub.execute_input": "2025-08-13T14:29:50.208445Z",
     "iopub.status.busy": "2025-08-13T14:29:50.208255Z",
     "iopub.status.idle": "2025-08-13T14:29:50.212153Z",
     "shell.execute_reply": "2025-08-13T14:29:50.211652Z",
     "shell.execute_reply.started": "2025-08-13T14:29:50.208427Z"
    }
   },
   "source": [
    "viewToCart = frequences[\"cart\"] / frequences[\"view\"] * 100\n",
    "cartToPurchase = frequences[\"purchase\"] / frequences[\"cart\"] * 100\n",
    "viewToPurchase = frequences[\"purchase\"] / frequences[\"view\"] * 100\n",
    "\n",
    "print(f\"Taux de conversion vue => panier : {viewToCart:.2f} %\")\n",
    "print(f\"Taux de conversion panier => achat : {cartToPurchase:.2f} %\")\n",
    "print(f\"Taux de conversion vue => achat : {viewToPurchase:.2f} %\")"
   ],
   "outputs": [],
   "execution_count": null
  },
  {
   "cell_type": "markdown",
   "id": "dbe89ac1e56137fd",
   "metadata": {},
   "source": [
    "Combien d'utilisateurs différents ont fait un achat ?"
   ]
  },
  {
   "cell_type": "code",
   "id": "f587aa8d13692513",
   "metadata": {
    "execution": {
     "iopub.execute_input": "2025-08-13T14:29:50.212906Z",
     "iopub.status.busy": "2025-08-13T14:29:50.212730Z",
     "iopub.status.idle": "2025-08-13T14:29:50.306432Z",
     "shell.execute_reply": "2025-08-13T14:29:50.305995Z",
     "shell.execute_reply.started": "2025-08-13T14:29:50.212890Z"
    }
   },
   "source": [
    "usersPurchased = len(df[\"user_id\"][df[\"event_type\"] == \"purchase\"].unique())\n",
    "\n",
    "itemsPurchasedPerUser = frequences[\"purchase\"] / usersPurchased\n",
    "\n",
    "maxUserBuy = df[df[\"event_type\"] == \"purchase\"].groupby(\"user_id\").size().max()\n",
    "maxSessionBuy = df[df[\"event_type\"] == \"purchase\"].groupby(\"user_session\").size().max()\n",
    "\n",
    "print(f\"Un total de {usersPurchased} utilisateurs différents ont effectué des achats sur le site\")\n",
    "print(f\"Un utilisateur qui achète sur le site achète en moyenne {itemsPurchasedPerUser:.2f} articles\")\n",
    "print(f\"L'utilisateur qui a le plus acheté a acheté {maxUserBuy} articles sur le mois\")\n",
    "print(f\"La session utilisateur qui a le plus acheté a acheté {maxSessionBuy} articles en une session\")"
   ],
   "outputs": [],
   "execution_count": null
  },
  {
   "cell_type": "markdown",
   "id": "9aab89df95fa5017",
   "metadata": {},
   "source": [
    "Comment évoluent les achats sur le mois ?"
   ]
  },
  {
   "cell_type": "code",
   "id": "d10c8261c2337eeb",
   "metadata": {
    "execution": {
     "iopub.execute_input": "2025-08-13T14:29:50.307186Z",
     "iopub.status.busy": "2025-08-13T14:29:50.306962Z",
     "iopub.status.idle": "2025-08-13T14:29:50.453518Z",
     "shell.execute_reply": "2025-08-13T14:29:50.453023Z",
     "shell.execute_reply.started": "2025-08-13T14:29:50.307171Z"
    }
   },
   "source": [
    "datesDayToDay = pd.to_datetime(df[\"event_time\"]).dt.date\n",
    "purchasesDayToDay = df[df[\"event_type\"] == \"purchase\"].groupby(datesDayToDay)[\"event_type\"].count()\n",
    "uniqueDates = datesDayToDay.unique()"
   ],
   "outputs": [],
   "execution_count": null
  },
  {
   "cell_type": "code",
   "id": "611f7d6c26e6d63b",
   "metadata": {
    "execution": {
     "iopub.execute_input": "2025-08-13T14:29:50.454407Z",
     "iopub.status.busy": "2025-08-13T14:29:50.454157Z",
     "iopub.status.idle": "2025-08-13T14:29:50.780949Z",
     "shell.execute_reply": "2025-08-13T14:29:50.780387Z",
     "shell.execute_reply.started": "2025-08-13T14:29:50.454389Z"
    }
   },
   "source": [
    "plt.figure(figsize=(20, 5))\n",
    "plt.plot(uniqueDates, purchasesDayToDay)\n",
    "\n",
    "for x,y in zip(uniqueDates, purchasesDayToDay):\n",
    "    plt.text(x, y + 0.3, y, ha=\"center\", va=\"bottom\", fontsize=9)\n",
    "\n",
    "plt.title(\"Ventes effectués au cours du mois\")\n",
    "plt.xlabel(\"Date\")\n",
    "plt.ylabel(\"Quantité\")\n",
    "plt.grid(True)\n",
    "plt.xticks(uniqueDates, rotation=45)\n",
    "\n",
    "plt.show()"
   ],
   "outputs": [],
   "execution_count": null
  },
  {
   "cell_type": "markdown",
   "id": "15adde2d34dc672d",
   "metadata": {},
   "source": [
    "Quel est le chiffre d'affaire quotidien ?"
   ]
  },
  {
   "cell_type": "code",
   "id": "a25528983679c28c",
   "metadata": {
    "execution": {
     "iopub.execute_input": "2025-08-13T14:29:50.781863Z",
     "iopub.status.busy": "2025-08-13T14:29:50.781594Z",
     "iopub.status.idle": "2025-08-13T14:29:50.923376Z",
     "shell.execute_reply": "2025-08-13T14:29:50.922813Z",
     "shell.execute_reply.started": "2025-08-13T14:29:50.781845Z"
    }
   },
   "source": [
    "datesDayToDay = pd.to_datetime(df[\"event_time\"]).dt.date\n",
    "gainsDayToDay = df[df[\"event_type\"] == \"purchase\"].groupby(datesDayToDay)[\"price\"].sum()\n",
    "uniqueDates = datesDayToDay.unique()"
   ],
   "outputs": [],
   "execution_count": null
  },
  {
   "cell_type": "code",
   "id": "70366d571a505fb",
   "metadata": {
    "execution": {
     "iopub.execute_input": "2025-08-13T14:29:50.924285Z",
     "iopub.status.busy": "2025-08-13T14:29:50.924032Z",
     "iopub.status.idle": "2025-08-13T14:29:51.290563Z",
     "shell.execute_reply": "2025-08-13T14:29:51.290012Z",
     "shell.execute_reply.started": "2025-08-13T14:29:50.924268Z"
    }
   },
   "source": [
    "plt.figure(figsize=(25, 5))\n",
    "plt.bar(uniqueDates, gainsDayToDay)\n",
    "\n",
    "for x,y in zip(uniqueDates, gainsDayToDay):\n",
    "    plt.text(x, y + 0.3, y, ha=\"center\", va=\"bottom\", fontsize=9)\n",
    "\n",
    "plt.title(\"Chiffre d'affaire effectué au cours du mois\")\n",
    "plt.xlabel(\"Date\")\n",
    "plt.ylabel(\"Chiffre d'affaire\")\n",
    "plt.grid(True)\n",
    "plt.xticks(uniqueDates, rotation=45)\n",
    "\n",
    "plt.show()"
   ],
   "outputs": [],
   "execution_count": null
  },
  {
   "cell_type": "markdown",
   "id": "df080d58bd327c1d",
   "metadata": {},
   "source": [
    "# Transformation"
   ]
  },
  {
   "cell_type": "code",
   "id": "106a12ada57d35bf",
   "metadata": {
    "execution": {
     "iopub.execute_input": "2025-08-13T14:29:51.291479Z",
     "iopub.status.busy": "2025-08-13T14:29:51.291231Z",
     "iopub.status.idle": "2025-08-13T14:30:51.020290Z",
     "shell.execute_reply": "2025-08-13T14:30:51.019790Z",
     "shell.execute_reply.started": "2025-08-13T14:29:51.291462Z"
    }
   },
   "source": [
    "import pandas as pd\n",
    "import numpy as np\n",
    "\n",
    "# 1. Conversion du timestamp\n",
    "df['timestamp'] = pd.to_datetime(df['event_time'])\n",
    "\n",
    "# 2. Extraction des composantes temporelles\n",
    "df['hour'] = df['timestamp'].dt.hour\n",
    "df['day'] = df['timestamp'].dt.dayofweek  # 0 = lundi, 6 = dimanche\n",
    "\n",
    "# 3. Catégorisation des moments de la journée\n",
    "def time_of_day(h):\n",
    "    if 6 <= h < 12:  return 'morning'\n",
    "    elif 12 <= h < 18: return 'afternoon'\n",
    "    elif 18 <= h < 24: return 'evening'\n",
    "    else: return 'night'\n",
    "\n",
    "df['time_period'] = df['hour'].apply(time_of_day)\n",
    "\n",
    "# 4. Encodage one-hot des types d’événements (sécurisé pour les colonnes manquantes)\n",
    "df = pd.get_dummies(df, columns=['event_type'], prefix='event_type')\n",
    "for col in ['event_type_view', 'event_type_cart', 'event_type_purchase']:\n",
    "    if col not in df:\n",
    "        df[col] = 0\n",
    "\n",
    "# 5. Agrégats principaux\n",
    "agg_behaviour = df.groupby('user_id').agg(\n",
    "    total_views=('event_type_view', 'sum'),\n",
    "    total_cart=('event_type_cart', 'sum'),\n",
    "    total_purchase=('event_type_purchase', 'sum'),\n",
    "    unique_categories=('category_id', 'nunique'),\n",
    "    last_activity=('timestamp', 'max')\n",
    ").reset_index()\n",
    "\n",
    "# 6. Total dépensé uniquement sur les achats\n",
    "total_spent = (\n",
    "    df[df['event_type_purchase'] == 1]\n",
    "    .groupby('user_id')['price']\n",
    "    .sum()\n",
    "    .rename('total_spent')\n",
    "    .reset_index()\n",
    ")\n",
    "\n",
    "agg_behaviour = agg_behaviour.merge(total_spent, on='user_id', how='left')\n",
    "agg_behaviour['total_spent'] = agg_behaviour['total_spent'].fillna(0)\n",
    "\n",
    "# 7. KPIs dérivés\n",
    "agg_behaviour['avg_basket'] = agg_behaviour['total_spent'] / agg_behaviour['total_purchase'].replace(0, np.nan)\n",
    "agg_behaviour['conversion_rate'] = agg_behaviour['total_purchase'] / agg_behaviour['total_views'].replace(0, np.nan)\n",
    "\n",
    "# 8. Répartition par moments de la journée (%)\n",
    "time_dist = (\n",
    "    df.groupby(['user_id', 'time_period'])\n",
    "    .size()\n",
    "    .unstack(fill_value=0)\n",
    "    .pipe(lambda d: d.div(d.sum(axis=1), axis=0))\n",
    ")\n",
    "\n",
    "# 9. Heure moyenne d’activité (cyclique)\n",
    "df['hour_rad'] = 2 * np.pi * df['hour'] / 24\n",
    "hour_avg = df.groupby('user_id').agg(\n",
    "    hour_cos=('hour_rad', lambda x: np.mean(np.cos(x))),\n",
    "    hour_sin=('hour_rad', lambda x: np.mean(np.sin(x)))\n",
    ").reset_index()\n",
    "hour_avg['peak_hour'] = np.arctan2(hour_avg['hour_sin'], hour_avg['hour_cos']) * (24 / (2 * np.pi))\n",
    "hour_avg['peak_hour'] = hour_avg['peak_hour'] % 24\n",
    "\n",
    "# 10. Récence en jours\n",
    "now = df['timestamp'].max()\n",
    "agg_behaviour['recency_days'] = (now - agg_behaviour['last_activity']).dt.days\n",
    "\n",
    "# 11. Fusion finale + nettoyage\n",
    "df_user_features = (\n",
    "    agg_behaviour\n",
    "    .merge(time_dist, on='user_id', how='left')\n",
    "    .merge(hour_avg[['user_id', 'peak_hour']], on='user_id', how='left')\n",
    "    .drop(columns=['last_activity'])\n",
    "    .fillna(0)\n",
    ")\n",
    "\n",
    "df_user_features.head()"
   ],
   "outputs": [],
   "execution_count": null
  },
  {
   "cell_type": "code",
   "id": "d1b0484c62515092",
   "metadata": {
    "execution": {
     "iopub.execute_input": "2025-08-13T14:30:51.021124Z",
     "iopub.status.busy": "2025-08-13T14:30:51.020882Z",
     "iopub.status.idle": "2025-08-13T14:30:51.024260Z",
     "shell.execute_reply": "2025-08-13T14:30:51.023761Z",
     "shell.execute_reply.started": "2025-08-13T14:30:51.021108Z"
    }
   },
   "source": [
    "# Nombre de catégories à garder\n",
    "TOP_N = 20\n",
    "\n",
    "# 1. Identifier les TOP_N catégories achetées\n",
    "top_categories = (\n",
    "    df[df['event_type_purchase'] == 1]\n",
    "    .groupby('category_id')\n",
    "    .size()\n",
    "    .sort_values(ascending=False)\n",
    "    .head(TOP_N)\n",
    "    .index\n",
    ")\n",
    "\n",
    "# 2. Créer un pivot avec achats uniquement, autres regroupées\n",
    "purchase_pivot = (\n",
    "    df[df['event_type_purchase'] == 1]\n",
    "    .assign(category_id=lambda x: x['category_id'].where(x['category_id'].isin(top_categories), 'other'))\n",
    "    .groupby(['user_id', 'category_id'])\n",
    "    .size()\n",
    "    .unstack(fill_value=0)\n",
    "    .reset_index()\n",
    ")\n",
    "\n",
    "# 3. Ajouter le préfixe \"cat_\" sauf pour 'user_id'\n",
    "purchase_pivot.columns = [\n",
    "    'user_id' if col == 'user_id' else f\"cat_{col}\" for col in purchase_pivot.columns\n",
    "]\n",
    "\n",
    "# 4. Merge avec ton dataframe final\n",
    "df_final = df_user_features.merge(purchase_pivot, on='user_id', how='left').fillna(0)\n",
    "\n",
    "# Optionnel : normaliser en pourcentage\n",
    "category_cols = [col for col in purchase_pivot.columns if col != 'user_id']\n",
    "df_final[category_cols] = df_final[category_cols].div(\n",
    "    df_final[category_cols].sum(axis=1).replace(0, np.nan),\n",
    "    axis=0\n",
    ").fillna(0)\n",
    "\n",
    "print(df_final.head())"
   ],
   "outputs": [],
   "execution_count": null
  },
  {
   "cell_type": "markdown",
   "id": "909e48560590f48a",
   "metadata": {},
   "source": [
    "Cherchons maintenant les corrélations entre les différentes features"
   ]
  },
  {
   "cell_type": "code",
   "id": "7a4615eeef069ffa",
   "metadata": {
    "execution": {
     "iopub.execute_input": "2025-08-13T14:30:51.168999Z",
     "iopub.status.busy": "2025-08-13T14:30:51.168800Z",
     "iopub.status.idle": "2025-08-13T14:30:52.035625Z",
     "shell.execute_reply": "2025-08-13T14:30:52.035028Z",
     "shell.execute_reply.started": "2025-08-13T14:30:51.168982Z"
    }
   },
   "source": [
    "corr_matrix = df_final.corr(numeric_only=True)\n",
    "\n",
    "plt.figure(figsize=(15, 15))\n",
    "sns.heatmap(corr_matrix, annot=True, cmap='coolwarm', fmt=\".2f\", square=True)\n",
    "plt.title(\"Matrice de corrélation\")\n",
    "plt.tight_layout()\n",
    "plt.show()"
   ],
   "outputs": [],
   "execution_count": null
  },
  {
   "cell_type": "markdown",
   "id": "5e6e86b59a672a53",
   "metadata": {},
   "source": [
    "Regrouper les clients par intéractions panier/nombre de connexions\n",
    "Achat par heure de la journée\n",
    "PySpark\n",
    "Analyses Bivariées\n",
    "Retravailler les données\n",
    "Qualitatif -> Quantitatif\n",
    "Test de Anova et Chi^2"
   ]
  },
  {
   "cell_type": "code",
   "id": "50986d7515c0253a",
   "metadata": {
    "execution": {
     "iopub.execute_input": "2025-08-13T14:30:52.036487Z",
     "iopub.status.busy": "2025-08-13T14:30:52.036279Z",
     "iopub.status.idle": "2025-08-13T14:30:52.047372Z",
     "shell.execute_reply": "2025-08-13T14:30:52.046862Z",
     "shell.execute_reply.started": "2025-08-13T14:30:52.036469Z"
    }
   },
   "source": "df_final = df_final.drop(['user_id'], axis=1)",
   "outputs": [],
   "execution_count": null
  },
  {
   "metadata": {},
   "cell_type": "code",
   "source": "df_final.describe()",
   "id": "cec065e013a0e596",
   "outputs": [],
   "execution_count": null
  },
  {
   "metadata": {},
   "cell_type": "code",
   "source": [
    "from sklearn.preprocessing import StandardScaler\n",
    "\n",
    "scaler = StandardScaler()\n",
    "df_scaled = scaler.fit_transform(df_final)"
   ],
   "id": "537c646184744224",
   "outputs": [],
   "execution_count": null
  },
  {
   "cell_type": "code",
   "id": "65407b0b3957d175",
   "metadata": {
    "execution": {
     "iopub.execute_input": "2025-08-13T14:30:52.052797Z",
     "iopub.status.busy": "2025-08-13T14:30:52.052559Z",
     "iopub.status.idle": "2025-08-13T14:30:52.064667Z",
     "shell.execute_reply": "2025-08-13T14:30:52.064181Z",
     "shell.execute_reply.started": "2025-08-13T14:30:52.052781Z"
    }
   },
   "source": "df_final.head()",
   "outputs": [],
   "execution_count": null
  },
  {
   "cell_type": "markdown",
   "id": "3ff8feb2b643a9f9",
   "metadata": {},
   "source": [
    "# Modèle"
   ]
  },
  {
   "cell_type": "code",
   "id": "699423b239d120e7",
   "metadata": {
    "execution": {
     "iopub.execute_input": "2025-08-13T14:30:52.065534Z",
     "iopub.status.busy": "2025-08-13T14:30:52.065359Z",
     "iopub.status.idle": "2025-08-13T14:30:52.124897Z",
     "shell.execute_reply": "2025-08-13T14:30:52.124382Z",
     "shell.execute_reply.started": "2025-08-13T14:30:52.065520Z"
    }
   },
   "source": [
    "from sklearn.decomposition import PCA\n",
    "\n",
    "pca = PCA(n_components=3)\n",
    "df_pca = pca.fit_transform(df_scaled)\n",
    "\n",
    "print(f\"Variance expliquée cumulée : {pca.explained_variance_ratio_.cumsum()}\")\n",
    "df_pca"
   ],
   "outputs": [],
   "execution_count": null
  },
  {
   "cell_type": "code",
   "id": "4d0082e79eac44fb",
   "metadata": {
    "execution": {
     "execution_failed": "2025-08-13T14:34:43.872Z",
     "iopub.execute_input": "2025-08-13T14:30:52.127503Z",
     "iopub.status.busy": "2025-08-13T14:30:52.127178Z"
    }
   },
   "source": [
    "import plotly.express as px\n",
    "\n",
    "df_plot = pd.DataFrame({\n",
    "    'PC1': df_pca[:, 0],\n",
    "    'PC2': df_pca[:, 1],\n",
    "    'PC3': df_pca[:, 2],\n",
    "})\n",
    "\n",
    "fig = px.scatter_3d(df_plot, x='PC1', y='PC2', z='PC3',\n",
    "                    title='Visualisation PCA',\n",
    "                    opacity=0.7,\n",
    "                    size_max=5)\n",
    "\n",
    "fig.show()"
   ],
   "outputs": [],
   "execution_count": null
  },
  {
   "cell_type": "markdown",
   "id": "882dbafc85326c54",
   "metadata": {},
   "source": [
    "## Recherche des hyperparamètres"
   ]
  },
  {
   "cell_type": "code",
   "id": "64f8114ceb20f7b8",
   "metadata": {
    "execution": {
     "iopub.status.idle": "2025-08-13T14:30:56.703862Z",
     "shell.execute_reply": "2025-08-13T14:30:56.703350Z",
     "shell.execute_reply.started": "2025-08-13T14:30:54.235404Z"
    }
   },
   "source": [
    "from sklearn.neighbors import NearestNeighbors\n",
    "\n",
    "min_samples = df_pca.shape[1] + 1\n",
    "\n",
    "neighbors = NearestNeighbors(n_neighbors=min_samples)\n",
    "neighbors_fit = neighbors.fit(df_pca)\n",
    "distances, indices = neighbors_fit.kneighbors(df_pca)\n",
    "\n",
    "# On prend la distance au dernier voisin (le k-ième)\n",
    "distances = np.sort(distances[:, -1])\n",
    "\n",
    "# Tracer la courbe\n",
    "plt.figure(figsize=(8, 4))\n",
    "plt.plot(distances)\n",
    "plt.xlabel(\"Points triés\")\n",
    "plt.ylabel(f\"Distance au {min_samples}ème voisin\")\n",
    "plt.title(\"k-distance plot\")\n",
    "plt.show()"
   ],
   "outputs": [],
   "execution_count": null
  },
  {
   "cell_type": "code",
   "id": "a638ec95bf418341",
   "metadata": {
    "execution": {
     "iopub.execute_input": "2025-08-13T14:30:56.704639Z",
     "iopub.status.busy": "2025-08-13T14:30:56.704450Z",
     "iopub.status.idle": "2025-08-13T14:30:56.716162Z",
     "shell.execute_reply": "2025-08-13T14:30:56.715706Z",
     "shell.execute_reply.started": "2025-08-13T14:30:56.704622Z"
    }
   },
   "source": [
    "print(f\"Min distance: {distances.min()}\")\n",
    "print(f\"Max distance: {distances.max()}\")\n",
    "print(f\"Moyenne distance: {distances.mean()}\")\n",
    "print(f\"25% quantile: {np.percentile(distances, 25)}\")\n",
    "print(f\"50% quantile: {np.percentile(distances, 50)}\")\n",
    "print(f\"75% quantile: {np.percentile(distances, 75)}\")"
   ],
   "outputs": [],
   "execution_count": null
  },
  {
   "cell_type": "code",
   "id": "7d168f1a5023197d",
   "metadata": {
    "execution": {
     "iopub.execute_input": "2025-08-13T14:34:20.927506Z",
     "iopub.status.busy": "2025-08-13T14:34:20.927168Z",
     "iopub.status.idle": "2025-08-13T14:34:21.305547Z",
     "shell.execute_reply": "2025-08-13T14:34:21.305033Z",
     "shell.execute_reply.started": "2025-08-13T14:34:20.927486Z"
    }
   },
   "source": [
    "from kneed import KneeLocator\n",
    "\n",
    "sensitivities = [0.5, 1]\n",
    "eps_values = []\n",
    "\n",
    "for S in sensitivities:\n",
    "    kneedle = KneeLocator(range(len(distances)), distances, S=S, curve='convex', direction='increasing')\n",
    "    knee_idx = kneedle.knee\n",
    "    if knee_idx is not None:\n",
    "        eps = distances[knee_idx]\n",
    "        print(f\"eps détecté avec S={S} : {eps:.4f}\")\n",
    "        eps_values.append(eps)\n",
    "    else:\n",
    "        print(f\"Aucun coude détecté avec S={S}\")\n",
    "        eps_values.append(None)"
   ],
   "outputs": [],
   "execution_count": null
  },
  {
   "cell_type": "code",
   "id": "5329470dd43b5b1c",
   "metadata": {
    "execution": {
     "execution_failed": "2025-08-13T14:34:43.873Z",
     "iopub.execute_input": "2025-08-13T14:34:24.105321Z",
     "iopub.status.busy": "2025-08-13T14:34:24.104779Z"
    }
   },
   "source": [
    "from sklearn.metrics import silhouette_score, calinski_harabasz_score, davies_bouldin_score\n",
    "from sklearn.cluster import DBSCAN\n",
    "\n",
    "max_sample_size = 1000\n",
    "\n",
    "best_score = -1\n",
    "best_eps = None\n",
    "rng = np.random.default_rng(seed=seed)\n",
    "\n",
    "for eps in eps_values:\n",
    "    clustering = DBSCAN(eps=eps, min_samples=min_samples).fit(df_pca)\n",
    "    labels = clustering.labels_\n",
    "\n",
    "    n_clusters = len(set(labels)) - (1 if -1 in labels else 0)\n",
    "    noise_ratio = list(labels).count(-1) / len(labels)\n",
    "    print(f\"eps={eps:.2f} -> clusters: {n_clusters}, bruit: {noise_ratio*100:.3f}%\")\n",
    "\n",
    "    mask = labels != -1\n",
    "    X_no_noise = df_pca[mask]\n",
    "    labels_no_noise = labels[mask]\n",
    "\n",
    "    if n_clusters > 1 and len(X_no_noise) > 0:\n",
    "        sample_size = min(max_sample_size, len(X_no_noise))\n",
    "        indices = rng.choice(len(X_no_noise), sample_size, replace=False)\n",
    "        X_sample = X_no_noise[indices]\n",
    "        labels_sample = labels_no_noise[indices]\n",
    "\n",
    "        sil_score = silhouette_score(X_sample, labels_sample)\n",
    "        ch_score = calinski_harabasz_score(X_sample, labels_sample)\n",
    "        db_score = davies_bouldin_score(X_sample, labels_sample)\n",
    "\n",
    "        print(f\"  Silhouette Score    : {sil_score:.3f}\")\n",
    "        print(f\"  Calinski-Harabasz   : {ch_score:.3f}\")\n",
    "        print(f\"  Davies-Bouldin      : {db_score:.3f}\")\n",
    "\n",
    "\n",
    "        if sil_score > best_score:\n",
    "            best_score = sil_score\n",
    "            best_eps = eps\n",
    "\n",
    "    else:\n",
    "        print(\"Pas assez de clusters pour calculer les scores.\")"
   ],
   "outputs": [],
   "execution_count": null
  },
  {
   "cell_type": "markdown",
   "id": "1a89896c5fd3603c",
   "metadata": {},
   "source": [
    "## Modèle final"
   ]
  },
  {
   "cell_type": "code",
   "id": "5aaf9b57d4600c8a",
   "metadata": {
    "execution": {
     "execution_failed": "2025-08-13T14:21:52.869Z"
    }
   },
   "source": [
    "dbscan = DBSCAN(eps=best_eps, min_samples=min_samples)\n",
    "clusters = dbscan.fit_predict(df_pca)"
   ],
   "outputs": [],
   "execution_count": null
  },
  {
   "metadata": {},
   "cell_type": "markdown",
   "source": "## Evaluation",
   "id": "ba4db461a7bacd01"
  },
  {
   "cell_type": "markdown",
   "id": "f211adec709e7289",
   "metadata": {},
   "source": "### Visualisation des clusters"
  },
  {
   "cell_type": "code",
   "id": "1c80c9eda74c8d21",
   "metadata": {
    "execution": {
     "execution_failed": "2025-08-13T14:21:52.870Z"
    }
   },
   "source": [
    "df_plot = pd.DataFrame({\n",
    "    'PC1': df_pca[:, 0],\n",
    "    'PC2': df_pca[:, 1],\n",
    "    'PC3': df_pca[:, 2],\n",
    "    'cluster': clusters\n",
    "})\n",
    "\n",
    "df_plot['color'] = df_plot['cluster'].apply(lambda x: 'grey' if x == -1 else f'cluster {x}')\n",
    "\n",
    "fig = px.scatter_3d(df_plot, x='PC1', y='PC2', z='PC3',\n",
    "                    color='color',\n",
    "                    title='Clusters DBSCAN',\n",
    "                    opacity=0.7,\n",
    "                    size_max=5,\n",
    "                    labels={'color': 'Cluster'})\n",
    "\n",
    "fig.show()"
   ],
   "outputs": [],
   "execution_count": null
  },
  {
   "metadata": {},
   "cell_type": "markdown",
   "source": "### Importance de chaque variable par cluster",
   "id": "4a8ef7ce6cf1af1b"
  },
  {
   "cell_type": "code",
   "id": "b7c15e95fbd1a1cf",
   "metadata": {
    "execution": {
     "execution_failed": "2025-08-13T14:21:52.870Z"
    }
   },
   "source": [
    "import pandas as pd\n",
    "import numpy as np\n",
    "\n",
    "# Suppose que df_final est ton DataFrame des features\n",
    "# labels = clustering.labels_  # Sortie de DBSCAN\n",
    "\n",
    "df_clusters = df_final.copy()\n",
    "df_clusters['cluster'] = labels\n",
    "\n",
    "# On exclut le bruit (-1)\n",
    "df_clusters = df_clusters[df_clusters['cluster'] != -1]\n",
    "\n",
    "# Moyenne par cluster\n",
    "cluster_means = df_clusters.groupby('cluster').mean()\n",
    "\n",
    "# Moyenne globale\n",
    "global_mean = df_final.mean()\n",
    "\n",
    "# Importance relative : écart à la moyenne globale\n",
    "feature_importance = cluster_means - global_mean\n",
    "\n",
    "# Pour chaque cluster, trier les features par importance absolue\n",
    "for c in feature_importance.index:\n",
    "    print(f\"\\nCluster {c}\")\n",
    "    print(feature_importance.loc[c].abs().sort_values(ascending=False).head(10))\n"
   ],
   "outputs": [],
   "execution_count": null
  }
 ],
 "metadata": {
  "kernelspec": {
   "display_name": "Python 3 (ipykernel)",
   "language": "python",
   "name": "python3"
  },
  "language_info": {
   "codemirror_mode": {
    "name": "ipython",
    "version": 3
   },
   "file_extension": ".py",
   "mimetype": "text/x-python",
   "name": "python",
   "nbconvert_exporter": "python",
   "pygments_lexer": "ipython3",
   "version": "3.12.9"
  }
 },
 "nbformat": 4,
 "nbformat_minor": 5
}
