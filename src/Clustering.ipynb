{
 "cells": [
  {
   "cell_type": "code",
   "execution_count": null,
   "id": "59abe9f5",
   "metadata": {},
   "outputs": [],
   "source": [
    "# Asyncio loop for notebook execution in github action\n",
    "import asyncio\n",
    "\n",
    "try:\n",
    "    asyncio.get_running_loop()\n",
    "except RuntimeError:\n",
    "    asyncio.set_event_loop(asyncio.new_event_loop())"
   ]
  },
  {
   "cell_type": "code",
   "execution_count": null,
   "id": "3775908f-ca36-4846-8f38-5adca39217f2",
   "metadata": {
    "language": "python",
    "name": "cell1"
   },
   "outputs": [],
   "source": [
    "# Import python packages\n",
    "import streamlit as st\n",
    "import pandas as pd\n",
    "import numpy as np\n",
    "import matplotlib.pyplot as plt\n",
    "import os"
   ]
  },
  {
   "cell_type": "code",
   "execution_count": null,
   "id": "70cd900a",
   "metadata": {},
   "outputs": [],
   "source": [
    "from dotenv import load_dotenv\n",
    "load_dotenv()"
   ]
  },
  {
   "cell_type": "code",
   "execution_count": null,
   "id": "8096d1f6",
   "metadata": {},
   "outputs": [],
   "source": [
    "# Snowflake initialization\n",
    "from snowflake.snowpark import Session\n",
    "\n",
    "\n",
    "# Définir ta configuration\n",
    "connection_parameters = {\n",
    "    \"account\": \"ZICSLXO-IL01773\",   # ex: \"xy12345.eu-central-1\"\n",
    "    \"user\": \"GITHUB\",\n",
    "    \"password\": \"t9qGJYBJ6ctSgJugit\",\n",
    "    \"warehouse\": \"COMPUTE_WH\",\n",
    "    \"database\": \"RAW_DATA\",\n",
    "    \"schema\": \"AMAZING_DATA\"\n",
    "}\n",
    "\n",
    "# Créer la session\n",
    "session = Session.builder.configs(connection_parameters).create()"
   ]
  },
  {
   "cell_type": "code",
   "execution_count": null,
   "id": "c695373e-ac74-4b62-a1f1-08206cbd5c81",
   "metadata": {
    "language": "python",
    "name": "cell3"
   },
   "outputs": [],
   "source": [
    "table = session.table(\"TRANSFORMED_DATA.AMAZING_DATA.CLIENT_EVENTS_CLEAN\")"
   ]
  },
  {
   "cell_type": "code",
   "execution_count": null,
   "id": "f76b6c8f-068c-4945-9e8d-154998c75897",
   "metadata": {
    "language": "python",
    "name": "cell5"
   },
   "outputs": [],
   "source": [
    "table.show()"
   ]
  },
  {
   "cell_type": "code",
   "execution_count": null,
   "id": "91038ff6-f6b8-42b5-a8c2-aeeeb3c20dca",
   "metadata": {
    "language": "python",
    "name": "cell4"
   },
   "outputs": [],
   "source": [
    "from sklearn.preprocessing import RobustScaler\n",
    "from sklearn.decomposition import PCA\n",
    "\n",
    "from sklearn.metrics import pairwise_distances\n",
    "import numpy as np\n",
    "\n",
    "# Récupérer un échantillon représentatif (ici le premier million de lignes)\n",
    "sample_df = session.table(\"TRANSFORMED_DATA.AMAZING_DATA.CLIENT_EVENTS_CLEAN\").limit(100000).to_pandas()\n",
    "\n",
    "scaler = RobustScaler()\n",
    "sample_scaled = scaler.fit_transform(sample_df)\n",
    "\n",
    "pca = PCA(n_components=3)\n",
    "pca.fit(sample_scaled)\n",
    "\n",
    "sample_scaled = scaler.transform(sample_df)\n",
    "sample_pca = pca.transform(sample_scaled)"
   ]
  },
  {
   "cell_type": "code",
   "execution_count": null,
   "id": "3112e731-51a0-438b-b6bf-4df480272063",
   "metadata": {
    "language": "python",
    "name": "cell8"
   },
   "outputs": [],
   "source": [
    "import joblib\n",
    "\n",
    "df = session.table(\"TRANSFORMED_DATA.AMAZING_DATA.CLIENT_EVENTS_CLEAN\").to_pandas()\n",
    "\n",
    "df_scaled = scaler.transform(df)\n",
    "df_pca = pca.transform(df_scaled)"
   ]
  },
  {
   "cell_type": "code",
   "execution_count": null,
   "id": "0a41a135-fd09-4f13-9fe7-f6f48aedd467",
   "metadata": {
    "language": "python",
    "name": "cell10"
   },
   "outputs": [],
   "source": [
    "import joblib\n",
    "\n",
    "local_path = \"/tmp/model.joblib\"\n",
    "session.file.get(\"@clustering_model/model.joblib\", local_path)\n",
    "\n",
    "model = joblib.load(\"/tmp/model.joblib/model.joblib\")"
   ]
  },
  {
   "cell_type": "code",
   "execution_count": null,
   "id": "370f89e2-b10d-490f-9c98-4ce00895298b",
   "metadata": {
    "language": "python",
    "name": "cell7"
   },
   "outputs": [],
   "source": [
    "pred_labels = model.predict(df_pca)\n",
    "\n",
    "labels_pred = model.predict(df_pca)\n",
    "df[\"cluster\"] = labels_pred"
   ]
  },
  {
   "cell_type": "code",
   "execution_count": null,
   "id": "fdfdc409-5dfa-493d-bb2d-30d03e78504b",
   "metadata": {
    "language": "python",
    "name": "cell11"
   },
   "outputs": [],
   "source": [
    "df.info()"
   ]
  },
  {
   "cell_type": "code",
   "execution_count": null,
   "id": "3d1d6f62-b4ec-44d6-bd3a-2e425bed44aa",
   "metadata": {
    "language": "python",
    "name": "cell2"
   },
   "outputs": [],
   "source": [
    "df_clusters = session.create_dataframe(df)\n",
    "\n",
    "# Sauvegarde dans une nouvelle table\n",
    "df_clusters.write.save_as_table(\n",
    "    \"TRANSFORMED_DATA.AMAZING_DATA.PREDICTED_DATA\",\n",
    "    mode=\"overwrite\"\n",
    ")"
   ]
  }
 ],
 "metadata": {
  "kernelspec": {
   "display_name": "Streamlit Notebook",
   "name": "streamlit"
  },
  "lastEditStatus": {
   "authorEmail": "tristanrib.ribb@gmail.com",
   "authorId": "884586048159",
   "authorName": "TRISTANRIB",
   "lastEditTime": 1756080941854,
   "notebookId": "mgg4cserl5iohzegjl7m",
   "sessionId": "f82a4996-a05d-48d2-893c-36ce437db8c0"
  }
 },
 "nbformat": 4,
 "nbformat_minor": 5
}
